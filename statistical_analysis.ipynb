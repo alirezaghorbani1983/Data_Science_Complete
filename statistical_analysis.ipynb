{
 "cells": [
  {
   "cell_type": "code",
   "execution_count": null,
   "id": "a86a6a78-d87a-4b5d-9466-0c7449d1656c",
   "metadata": {},
   "outputs": [],
   "source": [
    "# import csv\n",
    "\n",
    "# # data\n",
    "# rows = [\n",
    "#     ['id', 'name', 'age', 'child', 'salary'],\n",
    "#     [102, 'ali', 32, 5, 12000],\n",
    "#     [103, 'naser', 33, 4, 15000],\n",
    "#     [104, 'vahid', 30, 3, 15000],\n",
    "#     [105, 'ali', 38, 5, 17000],\n",
    "#     [106, 'amir', 37, 3, 18000],\n",
    "#     [107, 'saeed', 26, 2, 16000],\n",
    "#     [108, 'reza', 40, 2, 21000],\n",
    "# ]\n",
    "\n",
    "# # write csv \n",
    "# with open('1.csv', mode='w', newline='') as file:\n",
    "#     writer = csv.writer(file)\n",
    "#     writer.writerows(rows)\n",
    "\n",
    "# print(\"file is made.\")\n"
   ]
  },
  {
   "cell_type": "code",
   "execution_count": null,
   "id": "07ad590f-87d2-469f-8bdc-ad13592e1e1a",
   "metadata": {},
   "outputs": [],
   "source": []
  },
  {
   "cell_type": "markdown",
   "id": "59990255-d798-4210-a6be-79df418f9bb0",
   "metadata": {},
   "source": [
    "## make a csv file with usage of Pandas"
   ]
  },
  {
   "cell_type": "code",
   "execution_count": 1,
   "id": "19027446-a82d-4f2d-96c7-eee75993d7a7",
   "metadata": {},
   "outputs": [
    {
     "name": "stdout",
     "output_type": "stream",
     "text": [
      "     0      1    2      3       4\n",
      "0   id   name  age  child  salary\n",
      "1  102    ali   32      5   12000\n",
      "2  103  naser   33      4   15000\n",
      "3  104  vahid   30      3   15000\n",
      "4  105    ali   38      5   17000\n",
      "5  106   amir   37      3   18000\n",
      "6  107  saeed   26      2   16000\n",
      "7  108   reza   40      2   21000\n"
     ]
    }
   ],
   "source": [
    "import pandas as pd\n",
    "\n",
    "# create a DataFrame\n",
    "df = pd.DataFrame({\n",
    "    'id': [102, 103, 104, 105, 106, 107, 108],\n",
    "    'name': ['ali', 'naser', 'vahid', 'ali', 'amir', 'saeed', 'reza'],\n",
    "    'age': [32, 33, 30, 38, 37, 26, 40],\n",
    "    'child': [5, 4, 3, 5, 3, 2, 2],\n",
    "    'salary': [12000, 15000, 15000, 17000, 18000, 16000, 21000]\n",
    "})\n",
    "\n",
    "# save the csv file\n",
    "df.to_csv('1.csv', index=False)\n",
    "\n",
    "df = pd.read_csv('1.csv', header = None)\n",
    "\n",
    "print(df)\n"
   ]
  },
  {
   "cell_type": "code",
   "execution_count": 6,
   "id": "7fa3ad3a-7ea0-44e9-98e8-72ad7657ed91",
   "metadata": {},
   "outputs": [
    {
     "name": "stdout",
     "output_type": "stream",
     "text": [
      "[12000.0, 15000.0, 15000.0, 17000.0, 18000.0, 16000.0, 21000.0]\n"
     ]
    }
   ],
   "source": [
    "import statistics as st\n",
    "\n",
    "\n",
    "\n",
    "f = open(\"1.csv\",\"r\")\n",
    "l = []\n",
    "next(f)\n",
    "\n",
    "for line in f:\n",
    "    l.append(float(line.split(',')[4]))\n",
    "\n",
    "print(l)"
   ]
  },
  {
   "cell_type": "code",
   "execution_count": 8,
   "id": "6babd5af-983a-48f3-8476-6a04f0a34181",
   "metadata": {},
   "outputs": [
    {
     "name": "stdout",
     "output_type": "stream",
     "text": [
      "16285.714285714286\n"
     ]
    }
   ],
   "source": [
    "# mean of employee's incomes\n",
    "\n",
    "print(st.mean(l))"
   ]
  },
  {
   "cell_type": "code",
   "execution_count": 9,
   "id": "17a315f5-29c3-4044-b169-a102b4e94ae7",
   "metadata": {},
   "outputs": [
    {
     "name": "stdout",
     "output_type": "stream",
     "text": [
      "114000.0\n"
     ]
    }
   ],
   "source": [
    "# sum of the employee's incomes\n",
    "\n",
    "print(sum(l))"
   ]
  },
  {
   "cell_type": "code",
   "execution_count": null,
   "id": "cb23f6a2-6abb-4924-ae36-19db6aa7f521",
   "metadata": {},
   "outputs": [],
   "source": []
  }
 ],
 "metadata": {
  "kernelspec": {
   "display_name": "Python 3 (ipykernel)",
   "language": "python",
   "name": "python3"
  },
  "language_info": {
   "codemirror_mode": {
    "name": "ipython",
    "version": 3
   },
   "file_extension": ".py",
   "mimetype": "text/x-python",
   "name": "python",
   "nbconvert_exporter": "python",
   "pygments_lexer": "ipython3",
   "version": "3.12.7"
  }
 },
 "nbformat": 4,
 "nbformat_minor": 5
}
