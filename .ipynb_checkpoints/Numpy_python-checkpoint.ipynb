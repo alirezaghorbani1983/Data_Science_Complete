{
 "cells": [
  {
   "cell_type": "code",
   "execution_count": 1,
   "id": "bdf9a545-374f-439b-9c34-e249a0ddff5a",
   "metadata": {},
   "outputs": [
    {
     "name": "stdout",
     "output_type": "stream",
     "text": [
      "Requirement already satisfied: numpy in c:\\users\\alire\\anaconda3\\lib\\site-packages (2.2.6)\n",
      "Note: you may need to restart the kernel to use updated packages.\n"
     ]
    },
    {
     "name": "stderr",
     "output_type": "stream",
     "text": [
      "WARNING: Ignoring invalid distribution -atplotlib (c:\\users\\alire\\anaconda3\\lib\\site-packages)\n",
      "WARNING: Ignoring invalid distribution -atplotlib (c:\\users\\alire\\anaconda3\\lib\\site-packages)\n",
      "WARNING: Ignoring invalid distribution -atplotlib (c:\\users\\alire\\anaconda3\\lib\\site-packages)\n"
     ]
    }
   ],
   "source": [
    "pip install numpy\n"
   ]
  },
  {
   "cell_type": "markdown",
   "id": "b34e02aa-434f-4ee3-b518-56b587b0c9ca",
   "metadata": {},
   "source": [
    "# NUMPY"
   ]
  },
  {
   "cell_type": "code",
   "execution_count": 2,
   "id": "ef817d82-50cc-423d-8f2c-39c4a5b4446a",
   "metadata": {},
   "outputs": [
    {
     "name": "stdout",
     "output_type": "stream",
     "text": [
      "<class 'numpy.ndarray'>\n"
     ]
    }
   ],
   "source": [
    "import numpy as np\n",
    "\n",
    "arr = np.array([4,7,8,9])\n",
    "print(type(arr))"
   ]
  },
  {
   "cell_type": "code",
   "execution_count": 3,
   "id": "76d670bc-b918-44f9-b63d-d0d0ae06f7a6",
   "metadata": {},
   "outputs": [
    {
     "name": "stdout",
     "output_type": "stream",
     "text": [
      "[4 7 8 9]\n"
     ]
    }
   ],
   "source": [
    "print(arr)"
   ]
  },
  {
   "cell_type": "code",
   "execution_count": 4,
   "id": "2a230c34-ec3d-4ae4-b089-180ca7dfbb97",
   "metadata": {},
   "outputs": [
    {
     "name": "stdout",
     "output_type": "stream",
     "text": [
      "9\n"
     ]
    }
   ],
   "source": [
    "print(arr[3])"
   ]
  },
  {
   "cell_type": "code",
   "execution_count": 5,
   "id": "ab5109f7-a687-438a-92b2-d2b7484c4ab7",
   "metadata": {},
   "outputs": [
    {
     "name": "stdout",
     "output_type": "stream",
     "text": [
      "8\n"
     ]
    }
   ],
   "source": [
    "print(arr[-2])"
   ]
  },
  {
   "cell_type": "code",
   "execution_count": 7,
   "id": "6c66daf4-4e93-4073-9bf9-c9aae876ec0b",
   "metadata": {},
   "outputs": [
    {
     "name": "stdout",
     "output_type": "stream",
     "text": [
      "[4 7 8 9]\n"
     ]
    }
   ],
   "source": [
    "print(arr[0:4])"
   ]
  },
  {
   "cell_type": "code",
   "execution_count": 8,
   "id": "3d0ac604-3c8a-488e-af61-c01b0e2e5200",
   "metadata": {},
   "outputs": [
    {
     "name": "stdout",
     "output_type": "stream",
     "text": [
      "[4 8]\n"
     ]
    }
   ],
   "source": [
    "print(arr[0:4:2])"
   ]
  },
  {
   "cell_type": "code",
   "execution_count": 10,
   "id": "952a9d3f-d4ed-4a58-a6b0-420978b492e4",
   "metadata": {},
   "outputs": [
    {
     "name": "stdout",
     "output_type": "stream",
     "text": [
      "[9 8 7]\n"
     ]
    }
   ],
   "source": [
    "print(arr[-1:-4:-1])"
   ]
  },
  {
   "cell_type": "code",
   "execution_count": 11,
   "id": "74a19475-866e-4fb4-958d-b5bbce901a7c",
   "metadata": {},
   "outputs": [
    {
     "name": "stdout",
     "output_type": "stream",
     "text": [
      "1\n"
     ]
    }
   ],
   "source": [
    "print(arr.ndim)"
   ]
  },
  {
   "cell_type": "code",
   "execution_count": 13,
   "id": "948ef836-631a-45c6-8b2f-6c56ac53f7f5",
   "metadata": {},
   "outputs": [
    {
     "name": "stdout",
     "output_type": "stream",
     "text": [
      "0\n"
     ]
    }
   ],
   "source": [
    "arr = np.array(4)\n",
    "print(arr.ndim)"
   ]
  },
  {
   "cell_type": "code",
   "execution_count": 19,
   "id": "9a0713c9-e71f-40b1-812c-95877f3e48dd",
   "metadata": {},
   "outputs": [],
   "source": [
    "arr = np.array([[[4,7,8],[2,3,5]]])"
   ]
  },
  {
   "cell_type": "code",
   "execution_count": 20,
   "id": "bdc4d191-b5d8-46c1-9152-bfc8ccabd8c5",
   "metadata": {},
   "outputs": [
    {
     "name": "stdout",
     "output_type": "stream",
     "text": [
      "3\n"
     ]
    }
   ],
   "source": [
    "print(arr.ndim)"
   ]
  },
  {
   "cell_type": "code",
   "execution_count": 21,
   "id": "7671e13a-4287-43e0-b168-de53f741e5a4",
   "metadata": {},
   "outputs": [
    {
     "name": "stdout",
     "output_type": "stream",
     "text": [
      "[[[4 7 8]\n",
      "  [2 3 5]]]\n"
     ]
    }
   ],
   "source": [
    "print(arr)"
   ]
  },
  {
   "cell_type": "code",
   "execution_count": 24,
   "id": "bd8b1a73-a157-4a90-af7b-ceb96e26259b",
   "metadata": {},
   "outputs": [],
   "source": [
    "arr = np.array([4,7,8], ndmin = 5)"
   ]
  },
  {
   "cell_type": "code",
   "execution_count": 25,
   "id": "aafee574-596e-40ba-b975-0ab4feafb1ab",
   "metadata": {},
   "outputs": [
    {
     "name": "stdout",
     "output_type": "stream",
     "text": [
      "5\n"
     ]
    }
   ],
   "source": [
    "print(arr.ndim)"
   ]
  },
  {
   "cell_type": "code",
   "execution_count": 26,
   "id": "35adf799-7b3d-44d0-b21b-3319621afbd3",
   "metadata": {},
   "outputs": [
    {
     "name": "stdout",
     "output_type": "stream",
     "text": [
      "[[[[[4 7 8]]]]]\n"
     ]
    }
   ],
   "source": [
    "print(arr)"
   ]
  },
  {
   "cell_type": "code",
   "execution_count": 27,
   "id": "c2c66171-1267-48e8-82fe-450cf11abc54",
   "metadata": {},
   "outputs": [
    {
     "name": "stdout",
     "output_type": "stream",
     "text": [
      "int64\n"
     ]
    }
   ],
   "source": [
    "arr = np.array([4,7,8,9])\n",
    "\n",
    "print(arr.dtype)"
   ]
  },
  {
   "cell_type": "code",
   "execution_count": 28,
   "id": "f54896c1-c756-43f3-9860-0b1aacc8fdbd",
   "metadata": {},
   "outputs": [
    {
     "name": "stdout",
     "output_type": "stream",
     "text": [
      "int32\n"
     ]
    }
   ],
   "source": [
    "arr = np.array([4,7,8,9], dtype = \"i\")\n",
    "\n",
    "print(arr.dtype)"
   ]
  },
  {
   "cell_type": "code",
   "execution_count": 29,
   "id": "94b87e15-09d5-494d-b8ab-c8874b186ba9",
   "metadata": {},
   "outputs": [],
   "source": [
    "arr = np.array([4,7,8,9, 11,23, 6], dtype = \"f\")"
   ]
  },
  {
   "cell_type": "code",
   "execution_count": 30,
   "id": "5f2a76fc-73ea-4a9b-9386-65555dd35525",
   "metadata": {},
   "outputs": [
    {
     "name": "stdout",
     "output_type": "stream",
     "text": [
      "float32\n"
     ]
    }
   ],
   "source": [
    "print(arr.dtype)"
   ]
  },
  {
   "cell_type": "code",
   "execution_count": 31,
   "id": "d8f3595a-921a-47b4-bee0-2833a33affbe",
   "metadata": {},
   "outputs": [
    {
     "name": "stdout",
     "output_type": "stream",
     "text": [
      "[4. 7. 8. 9.]\n"
     ]
    }
   ],
   "source": [
    "print(arr)"
   ]
  },
  {
   "cell_type": "code",
   "execution_count": 33,
   "id": "bd99f802-d060-486b-a317-a21a492707a0",
   "metadata": {},
   "outputs": [
    {
     "name": "stdout",
     "output_type": "stream",
     "text": [
      "[4 7 8 9]\n",
      "[4. 7. 8. 9.]\n"
     ]
    }
   ],
   "source": [
    "print(arr.astype('i'))\n",
    "print(arr)"
   ]
  },
  {
   "cell_type": "code",
   "execution_count": 35,
   "id": "7255a52e-4716-4e0b-b572-9d6dccbb4928",
   "metadata": {},
   "outputs": [
    {
     "name": "stdout",
     "output_type": "stream",
     "text": [
      "7\n"
     ]
    }
   ],
   "source": [
    "arr = np.array([[4,7,8],[4,7,9]])\n",
    "print(arr[0,1])"
   ]
  },
  {
   "cell_type": "code",
   "execution_count": 36,
   "id": "0fd54700-d77e-4bb0-b565-745401a5d731",
   "metadata": {},
   "outputs": [
    {
     "name": "stdout",
     "output_type": "stream",
     "text": [
      "7\n"
     ]
    }
   ],
   "source": [
    "print(arr[1,1])"
   ]
  },
  {
   "cell_type": "code",
   "execution_count": 37,
   "id": "3041af0e-4853-426e-8536-08978bc578a1",
   "metadata": {},
   "outputs": [
    {
     "name": "stdout",
     "output_type": "stream",
     "text": [
      "9\n"
     ]
    }
   ],
   "source": [
    "print(arr[1,2])"
   ]
  },
  {
   "cell_type": "code",
   "execution_count": 39,
   "id": "b74c7909-b15c-4438-9a7d-df780e312f4e",
   "metadata": {},
   "outputs": [
    {
     "name": "stdout",
     "output_type": "stream",
     "text": [
      "[[4 7]\n",
      " [4 7]]\n"
     ]
    }
   ],
   "source": [
    "print(arr[0:2,0:2])"
   ]
  },
  {
   "cell_type": "code",
   "execution_count": 46,
   "id": "a503559d-99f4-4d64-9ae1-a6b169494abd",
   "metadata": {},
   "outputs": [
    {
     "name": "stdout",
     "output_type": "stream",
     "text": [
      "[[6 5 4]\n",
      " [9 8 7]]\n"
     ]
    }
   ],
   "source": [
    "arr = np.array([[4,5,6],[7,8,9]])\n",
    "print(arr[0:2,-1:-4:-1])"
   ]
  },
  {
   "cell_type": "code",
   "execution_count": 47,
   "id": "96982060-02a0-467a-90fb-35db904879ee",
   "metadata": {},
   "outputs": [
    {
     "data": {
      "text/plain": [
       "'C:\\\\Users\\\\alire\\\\Data Science Course - 55H'"
      ]
     },
     "execution_count": 47,
     "metadata": {},
     "output_type": "execute_result"
    }
   ],
   "source": [
    "import os\n",
    "os.getcwd()"
   ]
  },
  {
   "cell_type": "code",
   "execution_count": null,
   "id": "9a30af7c-9e1f-4551-b188-5164e41b30f0",
   "metadata": {},
   "outputs": [],
   "source": [
    "cd"
   ]
  }
 ],
 "metadata": {
  "kernelspec": {
   "display_name": "Python 3 (ipykernel)",
   "language": "python",
   "name": "python3"
  },
  "language_info": {
   "codemirror_mode": {
    "name": "ipython",
    "version": 3
   },
   "file_extension": ".py",
   "mimetype": "text/x-python",
   "name": "python",
   "nbconvert_exporter": "python",
   "pygments_lexer": "ipython3",
   "version": "3.10.16"
  }
 },
 "nbformat": 4,
 "nbformat_minor": 5
}
