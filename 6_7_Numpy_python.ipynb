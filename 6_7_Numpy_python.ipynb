{
 "cells": [
  {
   "cell_type": "code",
   "execution_count": 1,
   "id": "bdf9a545-374f-439b-9c34-e249a0ddff5a",
   "metadata": {},
   "outputs": [
    {
     "name": "stdout",
     "output_type": "stream",
     "text": [
      "Requirement already satisfied: numpy in c:\\users\\alire\\anaconda3\\lib\\site-packages (2.2.6)\n",
      "Note: you may need to restart the kernel to use updated packages.\n"
     ]
    },
    {
     "name": "stderr",
     "output_type": "stream",
     "text": [
      "WARNING: Ignoring invalid distribution -atplotlib (c:\\users\\alire\\anaconda3\\lib\\site-packages)\n",
      "WARNING: Ignoring invalid distribution -atplotlib (c:\\users\\alire\\anaconda3\\lib\\site-packages)\n",
      "WARNING: Ignoring invalid distribution -atplotlib (c:\\users\\alire\\anaconda3\\lib\\site-packages)\n"
     ]
    }
   ],
   "source": [
    "pip install numpy\n"
   ]
  },
  {
   "cell_type": "markdown",
   "id": "b34e02aa-434f-4ee3-b518-56b587b0c9ca",
   "metadata": {},
   "source": [
    "# NUMPY"
   ]
  },
  {
   "cell_type": "code",
   "execution_count": 2,
   "id": "ef817d82-50cc-423d-8f2c-39c4a5b4446a",
   "metadata": {},
   "outputs": [
    {
     "name": "stdout",
     "output_type": "stream",
     "text": [
      "<class 'numpy.ndarray'>\n"
     ]
    }
   ],
   "source": [
    "import numpy as np\n",
    "\n",
    "arr = np.array([4,7,8,9])\n",
    "print(type(arr))"
   ]
  },
  {
   "cell_type": "code",
   "execution_count": 3,
   "id": "76d670bc-b918-44f9-b63d-d0d0ae06f7a6",
   "metadata": {},
   "outputs": [
    {
     "name": "stdout",
     "output_type": "stream",
     "text": [
      "[4 7 8 9]\n"
     ]
    }
   ],
   "source": [
    "print(arr)"
   ]
  },
  {
   "cell_type": "code",
   "execution_count": 4,
   "id": "2a230c34-ec3d-4ae4-b089-180ca7dfbb97",
   "metadata": {},
   "outputs": [
    {
     "name": "stdout",
     "output_type": "stream",
     "text": [
      "9\n"
     ]
    }
   ],
   "source": [
    "print(arr[3])"
   ]
  },
  {
   "cell_type": "code",
   "execution_count": 5,
   "id": "ab5109f7-a687-438a-92b2-d2b7484c4ab7",
   "metadata": {},
   "outputs": [
    {
     "name": "stdout",
     "output_type": "stream",
     "text": [
      "8\n"
     ]
    }
   ],
   "source": [
    "print(arr[-2])"
   ]
  },
  {
   "cell_type": "code",
   "execution_count": 7,
   "id": "6c66daf4-4e93-4073-9bf9-c9aae876ec0b",
   "metadata": {},
   "outputs": [
    {
     "name": "stdout",
     "output_type": "stream",
     "text": [
      "[4 7 8 9]\n"
     ]
    }
   ],
   "source": [
    "print(arr[0:4])"
   ]
  },
  {
   "cell_type": "code",
   "execution_count": 8,
   "id": "3d0ac604-3c8a-488e-af61-c01b0e2e5200",
   "metadata": {},
   "outputs": [
    {
     "name": "stdout",
     "output_type": "stream",
     "text": [
      "[4 8]\n"
     ]
    }
   ],
   "source": [
    "print(arr[0:4:2])"
   ]
  },
  {
   "cell_type": "code",
   "execution_count": 10,
   "id": "952a9d3f-d4ed-4a58-a6b0-420978b492e4",
   "metadata": {},
   "outputs": [
    {
     "name": "stdout",
     "output_type": "stream",
     "text": [
      "[9 8 7]\n"
     ]
    }
   ],
   "source": [
    "print(arr[-1:-4:-1])"
   ]
  },
  {
   "cell_type": "code",
   "execution_count": 11,
   "id": "74a19475-866e-4fb4-958d-b5bbce901a7c",
   "metadata": {},
   "outputs": [
    {
     "name": "stdout",
     "output_type": "stream",
     "text": [
      "1\n"
     ]
    }
   ],
   "source": [
    "print(arr.ndim)"
   ]
  },
  {
   "cell_type": "code",
   "execution_count": 13,
   "id": "948ef836-631a-45c6-8b2f-6c56ac53f7f5",
   "metadata": {},
   "outputs": [
    {
     "name": "stdout",
     "output_type": "stream",
     "text": [
      "0\n"
     ]
    }
   ],
   "source": [
    "arr = np.array(4)\n",
    "print(arr.ndim)"
   ]
  },
  {
   "cell_type": "code",
   "execution_count": 19,
   "id": "9a0713c9-e71f-40b1-812c-95877f3e48dd",
   "metadata": {},
   "outputs": [],
   "source": [
    "arr = np.array([[[4,7,8],[2,3,5]]])"
   ]
  },
  {
   "cell_type": "code",
   "execution_count": 20,
   "id": "bdc4d191-b5d8-46c1-9152-bfc8ccabd8c5",
   "metadata": {},
   "outputs": [
    {
     "name": "stdout",
     "output_type": "stream",
     "text": [
      "3\n"
     ]
    }
   ],
   "source": [
    "print(arr.ndim)"
   ]
  },
  {
   "cell_type": "code",
   "execution_count": 21,
   "id": "7671e13a-4287-43e0-b168-de53f741e5a4",
   "metadata": {},
   "outputs": [
    {
     "name": "stdout",
     "output_type": "stream",
     "text": [
      "[[[4 7 8]\n",
      "  [2 3 5]]]\n"
     ]
    }
   ],
   "source": [
    "print(arr)"
   ]
  },
  {
   "cell_type": "code",
   "execution_count": 24,
   "id": "bd8b1a73-a157-4a90-af7b-ceb96e26259b",
   "metadata": {},
   "outputs": [],
   "source": [
    "arr = np.array([4,7,8], ndmin = 5)"
   ]
  },
  {
   "cell_type": "code",
   "execution_count": 25,
   "id": "aafee574-596e-40ba-b975-0ab4feafb1ab",
   "metadata": {},
   "outputs": [
    {
     "name": "stdout",
     "output_type": "stream",
     "text": [
      "5\n"
     ]
    }
   ],
   "source": [
    "print(arr.ndim)"
   ]
  },
  {
   "cell_type": "code",
   "execution_count": 26,
   "id": "35adf799-7b3d-44d0-b21b-3319621afbd3",
   "metadata": {},
   "outputs": [
    {
     "name": "stdout",
     "output_type": "stream",
     "text": [
      "[[[[[4 7 8]]]]]\n"
     ]
    }
   ],
   "source": [
    "print(arr)"
   ]
  },
  {
   "cell_type": "code",
   "execution_count": 27,
   "id": "c2c66171-1267-48e8-82fe-450cf11abc54",
   "metadata": {},
   "outputs": [
    {
     "name": "stdout",
     "output_type": "stream",
     "text": [
      "int64\n"
     ]
    }
   ],
   "source": [
    "arr = np.array([4,7,8,9])\n",
    "\n",
    "print(arr.dtype)"
   ]
  },
  {
   "cell_type": "code",
   "execution_count": 28,
   "id": "f54896c1-c756-43f3-9860-0b1aacc8fdbd",
   "metadata": {},
   "outputs": [
    {
     "name": "stdout",
     "output_type": "stream",
     "text": [
      "int32\n"
     ]
    }
   ],
   "source": [
    "arr = np.array([4,7,8,9], dtype = \"i\")\n",
    "\n",
    "print(arr.dtype)"
   ]
  },
  {
   "cell_type": "code",
   "execution_count": 29,
   "id": "94b87e15-09d5-494d-b8ab-c8874b186ba9",
   "metadata": {},
   "outputs": [],
   "source": [
    "arr = np.array([4,7,8,9, 11,23, 6], dtype = \"f\")"
   ]
  },
  {
   "cell_type": "code",
   "execution_count": 30,
   "id": "5f2a76fc-73ea-4a9b-9386-65555dd35525",
   "metadata": {},
   "outputs": [
    {
     "name": "stdout",
     "output_type": "stream",
     "text": [
      "float32\n"
     ]
    }
   ],
   "source": [
    "print(arr.dtype)"
   ]
  },
  {
   "cell_type": "code",
   "execution_count": 31,
   "id": "d8f3595a-921a-47b4-bee0-2833a33affbe",
   "metadata": {},
   "outputs": [
    {
     "name": "stdout",
     "output_type": "stream",
     "text": [
      "[4. 7. 8. 9.]\n"
     ]
    }
   ],
   "source": [
    "print(arr)"
   ]
  },
  {
   "cell_type": "code",
   "execution_count": 33,
   "id": "bd99f802-d060-486b-a317-a21a492707a0",
   "metadata": {},
   "outputs": [
    {
     "name": "stdout",
     "output_type": "stream",
     "text": [
      "[4 7 8 9]\n",
      "[4. 7. 8. 9.]\n"
     ]
    }
   ],
   "source": [
    "print(arr.astype('i'))\n",
    "print(arr)"
   ]
  },
  {
   "cell_type": "code",
   "execution_count": 35,
   "id": "7255a52e-4716-4e0b-b572-9d6dccbb4928",
   "metadata": {},
   "outputs": [
    {
     "name": "stdout",
     "output_type": "stream",
     "text": [
      "7\n"
     ]
    }
   ],
   "source": [
    "arr = np.array([[4,7,8],[4,7,9]])\n",
    "print(arr[0,1])"
   ]
  },
  {
   "cell_type": "code",
   "execution_count": 36,
   "id": "0fd54700-d77e-4bb0-b565-745401a5d731",
   "metadata": {},
   "outputs": [
    {
     "name": "stdout",
     "output_type": "stream",
     "text": [
      "7\n"
     ]
    }
   ],
   "source": [
    "print(arr[1,1])"
   ]
  },
  {
   "cell_type": "code",
   "execution_count": 37,
   "id": "3041af0e-4853-426e-8536-08978bc578a1",
   "metadata": {},
   "outputs": [
    {
     "name": "stdout",
     "output_type": "stream",
     "text": [
      "9\n"
     ]
    }
   ],
   "source": [
    "print(arr[1,2])"
   ]
  },
  {
   "cell_type": "code",
   "execution_count": 39,
   "id": "b74c7909-b15c-4438-9a7d-df780e312f4e",
   "metadata": {},
   "outputs": [
    {
     "name": "stdout",
     "output_type": "stream",
     "text": [
      "[[4 7]\n",
      " [4 7]]\n"
     ]
    }
   ],
   "source": [
    "print(arr[0:2,0:2])"
   ]
  },
  {
   "cell_type": "code",
   "execution_count": 46,
   "id": "a503559d-99f4-4d64-9ae1-a6b169494abd",
   "metadata": {},
   "outputs": [
    {
     "name": "stdout",
     "output_type": "stream",
     "text": [
      "[[6 5 4]\n",
      " [9 8 7]]\n"
     ]
    }
   ],
   "source": [
    "arr = np.array([[4,5,6],[7,8,9]])\n",
    "print(arr[0:2,-1:-4:-1])"
   ]
  },
  {
   "cell_type": "code",
   "execution_count": 47,
   "id": "96982060-02a0-467a-90fb-35db904879ee",
   "metadata": {},
   "outputs": [
    {
     "data": {
      "text/plain": [
       "'C:\\\\Users\\\\alire\\\\Data Science Course - 55H'"
      ]
     },
     "execution_count": 47,
     "metadata": {},
     "output_type": "execute_result"
    }
   ],
   "source": [
    "import os\n",
    "os.getcwd()"
   ]
  },
  {
   "cell_type": "markdown",
   "id": "45c10e26-f432-4065-b074-e9a08ecd9794",
   "metadata": {},
   "source": [
    "## Numpy - part 2"
   ]
  },
  {
   "cell_type": "code",
   "execution_count": 7,
   "id": "ec76eb55-3dbc-42cf-9e1f-c983a3fbaee9",
   "metadata": {},
   "outputs": [],
   "source": [
    "import numpy as np\n",
    "\n",
    "arr= np.array([[4,6,7],[3,21,11]])"
   ]
  },
  {
   "cell_type": "code",
   "execution_count": 8,
   "id": "4e5bff0a-a00c-47db-8460-cfd2327ac216",
   "metadata": {},
   "outputs": [
    {
     "name": "stdout",
     "output_type": "stream",
     "text": [
      "(2, 3)\n"
     ]
    }
   ],
   "source": [
    "print(arr.shape)"
   ]
  },
  {
   "cell_type": "code",
   "execution_count": 10,
   "id": "17211e14-7c06-42cc-991c-3b1842376e08",
   "metadata": {},
   "outputs": [],
   "source": [
    "arr= np.array([4,6,11,5,6,9])"
   ]
  },
  {
   "cell_type": "code",
   "execution_count": 11,
   "id": "99b2c330-7ea3-4dfd-96d1-c8c857fa4495",
   "metadata": {},
   "outputs": [
    {
     "name": "stdout",
     "output_type": "stream",
     "text": [
      "[[ 4  6 11]\n",
      " [ 5  6  9]]\n"
     ]
    }
   ],
   "source": [
    "print(arr.reshape((2,3),))"
   ]
  },
  {
   "cell_type": "code",
   "execution_count": 13,
   "id": "7f5a9572-09a7-4ea2-8818-b1886d0dd31b",
   "metadata": {
    "scrolled": true
   },
   "outputs": [
    {
     "ename": "ValueError",
     "evalue": "cannot reshape array of size 6 into shape (2,4)",
     "output_type": "error",
     "traceback": [
      "\u001b[1;31m---------------------------------------------------------------------------\u001b[0m",
      "\u001b[1;31mValueError\u001b[0m                                Traceback (most recent call last)",
      "Cell \u001b[1;32mIn[13], line 1\u001b[0m\n\u001b[1;32m----> 1\u001b[0m \u001b[38;5;28mprint\u001b[39m(\u001b[43marr\u001b[49m\u001b[38;5;241;43m.\u001b[39;49m\u001b[43mreshape\u001b[49m\u001b[43m(\u001b[49m\u001b[43m(\u001b[49m\u001b[38;5;241;43m2\u001b[39;49m\u001b[43m,\u001b[49m\u001b[38;5;241;43m4\u001b[39;49m\u001b[43m)\u001b[49m\u001b[43m,\u001b[49m\u001b[43m)\u001b[49m)\n",
      "\u001b[1;31mValueError\u001b[0m: cannot reshape array of size 6 into shape (2,4)"
     ]
    }
   ],
   "source": [
    "print(arr.reshape((2,4),))"
   ]
  },
  {
   "cell_type": "code",
   "execution_count": 14,
   "id": "0feaffba-cdd6-40c1-91ed-b7c17c49a2b4",
   "metadata": {},
   "outputs": [
    {
     "name": "stdout",
     "output_type": "stream",
     "text": [
      "[[ 4  6]\n",
      " [11  5]\n",
      " [ 6  9]]\n"
     ]
    }
   ],
   "source": [
    "print(arr.reshape((3,2),))"
   ]
  },
  {
   "cell_type": "code",
   "execution_count": 18,
   "id": "7e5023d7-112e-4a35-a568-1eb4d39f720f",
   "metadata": {},
   "outputs": [],
   "source": [
    "data = [34, 46565, 346566, 67878, 8989900]\n",
    "\n",
    "with open('1.csv', 'w') as f:\n",
    "    f.write(','.join(map(str, data)))"
   ]
  },
  {
   "cell_type": "code",
   "execution_count": 15,
   "id": "4110c884-c865-49c3-b663-63709fb8699c",
   "metadata": {},
   "outputs": [],
   "source": [
    "arr= np.array([4,6,11,5,6,9,1,45])"
   ]
  },
  {
   "cell_type": "code",
   "execution_count": 16,
   "id": "42916138-c029-47b5-81c3-a539af2cfbff",
   "metadata": {},
   "outputs": [
    {
     "name": "stdout",
     "output_type": "stream",
     "text": [
      "[[[ 4  6]\n",
      "  [11  5]]\n",
      "\n",
      " [[ 6  9]\n",
      "  [ 1 45]]]\n"
     ]
    }
   ],
   "source": [
    "print(arr.reshape((2,2,2),))"
   ]
  },
  {
   "cell_type": "code",
   "execution_count": null,
   "id": "f6e3bde4-bfa7-4640-8132-338bc8434ffa",
   "metadata": {},
   "outputs": [],
   "source": [
    "data = [34, 46565, 346566, 67878, 8989900]\n",
    "\n",
    "with open('1.csv', 'w') as f:\n",
    "    f.write(','.join(map(str, data)))"
   ]
  },
  {
   "cell_type": "code",
   "execution_count": 25,
   "id": "708734c8-c8e8-4668-b0bf-e4251be85cfe",
   "metadata": {},
   "outputs": [
    {
     "name": "stdout",
     "output_type": "stream",
     "text": [
      "<class 'numpy.ndarray'>\n"
     ]
    }
   ],
   "source": [
    "# change data type from string to int\n",
    "f = open(\"1.csv\", \"r\")\n",
    "\n",
    "list = f.read().split(\",\")\n",
    "\n",
    "arr = np.asarray(list)\n",
    "print(type(arr))\n",
    "    \n",
    "    "
   ]
  },
  {
   "cell_type": "code",
   "execution_count": 26,
   "id": "c6a6cb44-7b51-4b47-bed1-e3f852d9f9ba",
   "metadata": {},
   "outputs": [
    {
     "name": "stdout",
     "output_type": "stream",
     "text": [
      "['34' '46565' '346566' '67878' '8989900']\n"
     ]
    }
   ],
   "source": [
    "print(arr)"
   ]
  },
  {
   "cell_type": "code",
   "execution_count": 28,
   "id": "bf35d449-e184-402b-833c-9a2230b26cc1",
   "metadata": {},
   "outputs": [
    {
     "name": "stdout",
     "output_type": "stream",
     "text": [
      "<class 'numpy.ndarray'>\n",
      "[     34   46565  346566   67878 8989900]\n"
     ]
    }
   ],
   "source": [
    "# change data type from str to int\n",
    "\n",
    "arr = np.asarray(list, \"i\")\n",
    "print(type(arr))\n",
    "print(arr)"
   ]
  },
  {
   "cell_type": "code",
   "execution_count": 29,
   "id": "d520cb90-2d6e-4ae8-a4aa-a41b7cec3b30",
   "metadata": {},
   "outputs": [
    {
     "name": "stdout",
     "output_type": "stream",
     "text": [
      "(5,)\n"
     ]
    }
   ],
   "source": [
    "# give us number of elemet\n",
    "print(arr.shape)\n"
   ]
  },
  {
   "cell_type": "code",
   "execution_count": 31,
   "id": "376c6941-a50c-4bb0-b012-fb17d31f47d4",
   "metadata": {},
   "outputs": [
    {
     "name": "stdout",
     "output_type": "stream",
     "text": [
      "34\n"
     ]
    }
   ],
   "source": [
    "print(np.amin(arr))"
   ]
  },
  {
   "cell_type": "code",
   "execution_count": 32,
   "id": "41d2ca6f-9a37-4039-bc07-f7293d56e7ab",
   "metadata": {},
   "outputs": [
    {
     "name": "stdout",
     "output_type": "stream",
     "text": [
      "8989900\n"
     ]
    }
   ],
   "source": [
    "print(np.amax(arr))"
   ]
  },
  {
   "cell_type": "code",
   "execution_count": 33,
   "id": "936976bf-9d8f-48a5-9ea7-94dec5037bc1",
   "metadata": {},
   "outputs": [
    {
     "name": "stdout",
     "output_type": "stream",
     "text": [
      "1890188.6\n"
     ]
    }
   ],
   "source": [
    "print(np.mean(arr))"
   ]
  },
  {
   "cell_type": "code",
   "execution_count": 34,
   "id": "430d6ec2-974c-48e9-a54b-3da24e73de5b",
   "metadata": {},
   "outputs": [
    {
     "name": "stdout",
     "output_type": "stream",
     "text": [
      "67878.0\n"
     ]
    }
   ],
   "source": [
    "print(np.median(arr))"
   ]
  },
  {
   "cell_type": "code",
   "execution_count": 35,
   "id": "4435cbc6-1120-468e-bc5d-673dd2aab991",
   "metadata": {},
   "outputs": [
    {
     "name": "stdout",
     "output_type": "stream",
     "text": [
      "2\n",
      "3\n",
      "4\n",
      "5\n"
     ]
    }
   ],
   "source": [
    "import numpy as np\n",
    "arr = np.array([2,3,4,5])\n",
    "\n",
    "for x in arr:\n",
    "    print(x)"
   ]
  },
  {
   "cell_type": "code",
   "execution_count": 39,
   "id": "415f3580-3318-4e20-a899-93482f0adcae",
   "metadata": {},
   "outputs": [
    {
     "name": "stdout",
     "output_type": "stream",
     "text": [
      "2\n",
      "3\n",
      "4\n",
      "5\n"
     ]
    }
   ],
   "source": [
    "arr = np.array([[2,3],[4,5]])\n",
    "\n",
    "for x in arr:\n",
    "    for i in x:\n",
    "        print(i)"
   ]
  },
  {
   "cell_type": "code",
   "execution_count": 43,
   "id": "3e5675c7-8273-4f88-bb72-c70553168f06",
   "metadata": {},
   "outputs": [
    {
     "name": "stdout",
     "output_type": "stream",
     "text": [
      "2\n",
      "3\n",
      "4\n",
      "5\n",
      "6\n",
      "7\n"
     ]
    }
   ],
   "source": [
    "arr = np.array([[[2,3],[4,5],[6,7]]])\n",
    "\n",
    "for x in np.nditer(arr):\n",
    "    print(x)"
   ]
  },
  {
   "cell_type": "code",
   "execution_count": 45,
   "id": "91ae9944-d4d6-4278-8e23-9451f97e4afd",
   "metadata": {},
   "outputs": [
    {
     "name": "stdout",
     "output_type": "stream",
     "text": [
      "2\n",
      "3\n",
      "5\n",
      "8\n"
     ]
    }
   ],
   "source": [
    "arr = np.array([2,3, 5, 8],ndmin = 5)\n",
    "\n",
    "for x in np.nditer(arr):\n",
    "    print(x)"
   ]
  },
  {
   "cell_type": "markdown",
   "id": "fca693fe-dc61-42f9-8e87-0eda6363f57c",
   "metadata": {},
   "source": [
    "### multiply matrices"
   ]
  },
  {
   "cell_type": "code",
   "execution_count": 50,
   "id": "4a8bf4c8-e1bb-4f20-8e5c-a267d845facb",
   "metadata": {},
   "outputs": [
    {
     "name": "stdout",
     "output_type": "stream",
     "text": [
      "[[ 8 18]\n",
      " [10 64]]\n"
     ]
    }
   ],
   "source": [
    "arr1 = np.array([[2,3],[5, 8]])\n",
    "\n",
    "arr2 = np.array([[4,6],[2,8]])\n",
    "\n",
    "print(np.multiply(arr1,arr2))"
   ]
  },
  {
   "cell_type": "code",
   "execution_count": null,
   "id": "ff12b1fa-3bc7-457c-a9f0-61acb4fcde53",
   "metadata": {},
   "outputs": [],
   "source": []
  }
 ],
 "metadata": {
  "kernelspec": {
   "display_name": "Python 3 (ipykernel)",
   "language": "python",
   "name": "python3"
  },
  "language_info": {
   "codemirror_mode": {
    "name": "ipython",
    "version": 3
   },
   "file_extension": ".py",
   "mimetype": "text/x-python",
   "name": "python",
   "nbconvert_exporter": "python",
   "pygments_lexer": "ipython3",
   "version": "3.10.16"
  }
 },
 "nbformat": 4,
 "nbformat_minor": 5
}
