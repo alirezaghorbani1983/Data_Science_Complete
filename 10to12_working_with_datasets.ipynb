{
 "cells": [
  {
   "cell_type": "markdown",
   "id": "d70298ca-a1cf-412b-9d6e-694626ffc2fd",
   "metadata": {},
   "source": [
    "# Dataset analysis"
   ]
  },
  {
   "cell_type": "code",
   "execution_count": 21,
   "id": "6f097933-c008-4acd-8963-3570d95c0c59",
   "metadata": {},
   "outputs": [],
   "source": [
    "#make a data set\n",
    "\n",
    "mydataset = {\n",
    " \"name\": [\"ali\", \"reza\", \"vahid\"],\n",
    " \"age\" : [16,30,22],\n",
    " \"salary\":[12000,30000,24000],\n",
    " \"grade\": [\"A\", \"B\", \"C\"]\n",
    "}\n",
    "    "
   ]
  },
  {
   "cell_type": "code",
   "execution_count": 22,
   "id": "4854c36a-ca95-47e6-885b-759f6bb53e8f",
   "metadata": {},
   "outputs": [
    {
     "name": "stdout",
     "output_type": "stream",
     "text": [
      "    name  age  salary grade\n",
      "0    ali   16   12000     A\n",
      "1   reza   30   30000     B\n",
      "2  vahid   22   24000     C\n"
     ]
    }
   ],
   "source": [
    "#make a dataframe\n",
    "\n",
    "\n",
    "df = pd.DataFrame(mydataset)\n",
    "\n",
    "print(df)"
   ]
  },
  {
   "cell_type": "code",
   "execution_count": 23,
   "id": "9ab639b7-1ac1-4542-84e8-a57d392f4704",
   "metadata": {},
   "outputs": [
    {
     "name": "stdout",
     "output_type": "stream",
     "text": [
      "name        ali\n",
      "age          16\n",
      "salary    12000\n",
      "grade         A\n",
      "Name: 0, dtype: object\n"
     ]
    }
   ],
   "source": [
    "print(df.loc[0])"
   ]
  },
  {
   "cell_type": "code",
   "execution_count": 24,
   "id": "e2af4e4b-6453-4bef-8926-cdb90035299d",
   "metadata": {},
   "outputs": [
    {
     "name": "stdout",
     "output_type": "stream",
     "text": [
      "name      vahid\n",
      "age          22\n",
      "salary    24000\n",
      "grade         C\n",
      "Name: 2, dtype: object\n"
     ]
    }
   ],
   "source": [
    "print(df.loc[2])"
   ]
  },
  {
   "cell_type": "code",
   "execution_count": 25,
   "id": "a5315c48-0d1d-453c-a8a9-30c1469ca66a",
   "metadata": {},
   "outputs": [
    {
     "name": "stdout",
     "output_type": "stream",
     "text": [
      "0      ali\n",
      "1     reza\n",
      "2    vahid\n",
      "Name: name, dtype: object 0    A\n",
      "1    B\n",
      "2    C\n",
      "Name: grade, dtype: object\n"
     ]
    }
   ],
   "source": [
    "print(df[\"name\"], df[\"grade\"])"
   ]
  },
  {
   "cell_type": "code",
   "execution_count": 26,
   "id": "bec947bd-2041-4d64-9c54-0f5a279bde2b",
   "metadata": {},
   "outputs": [],
   "source": [
    "#make a data set\n",
    "\n",
    "mydataset = {\n",
    " \"name\": [\"ali\", \"reza\", \"vahid\"],\n",
    " \"age\" : [16,30,22],\n",
    " \"salary\":[12000,30000,24000],\n",
    " \"grade\": [\"A\", \"B\", \"C\"]\n",
    "}\n",
    "    "
   ]
  },
  {
   "cell_type": "code",
   "execution_count": 9,
   "id": "0463ce4b-dfac-4cdd-a74b-7eaa6a45e602",
   "metadata": {},
   "outputs": [],
   "source": [
    "import pandas as pd\n",
    "\n",
    "\n",
    "data = {\n",
    "    \"Duration\": [60, 45, 45, 30, 30, 60, 60, 45, 30, 60, 60, 60, 60],\n",
    "    \"Pulse\": [110, 117, 103, 109, 117, 102, 110, 104, 109, 98, 100, 130, 105],\n",
    "    \"Maxpulse\": [130, 145, 135, 175, 148, 127, 136, 134, 133, 124, 120, 101, 132],\n",
    "    \"Calories\": [409, 479, 340, 282, 406, 300, 374, 253, 273, 195, 215, 243, 323]\n",
    "}\n",
    "\n",
    "# change data to dataframe\n",
    "df = pd.DataFrame(data)\n",
    "\n",
    "# save dataframe as csv\n",
    "df.to_csv(\"data_from.csv\", index=False)"
   ]
  },
  {
   "cell_type": "code",
   "execution_count": 10,
   "id": "1de2e4c4-ca0c-422a-9763-55f91a9deb6a",
   "metadata": {},
   "outputs": [],
   "source": [
    "mydataset = pd.read_csv(\"data_from.csv\")"
   ]
  },
  {
   "cell_type": "code",
   "execution_count": 11,
   "id": "4c455225-7636-4b84-b05f-a547147ad7aa",
   "metadata": {},
   "outputs": [
    {
     "name": "stdout",
     "output_type": "stream",
     "text": [
      "    Duration  Pulse  Maxpulse  Calories\n",
      "0         60    110       130       409\n",
      "1         45    117       145       479\n",
      "2         45    103       135       340\n",
      "3         30    109       175       282\n",
      "4         30    117       148       406\n",
      "5         60    102       127       300\n",
      "6         60    110       136       374\n",
      "7         45    104       134       253\n",
      "8         30    109       133       273\n",
      "9         60     98       124       195\n",
      "10        60    100       120       215\n",
      "11        60    130       101       243\n",
      "12        60    105       132       323\n"
     ]
    }
   ],
   "source": [
    "df = pd.DataFrame(mydataset)\n",
    "print(df)"
   ]
  },
  {
   "cell_type": "code",
   "execution_count": 12,
   "id": "66c2d042-5e6f-48b3-82fa-1d2b3c9a18cc",
   "metadata": {},
   "outputs": [
    {
     "name": "stdout",
     "output_type": "stream",
     "text": [
      "0     60\n",
      "1     45\n",
      "2     45\n",
      "3     30\n",
      "4     30\n",
      "5     60\n",
      "6     60\n",
      "7     45\n",
      "8     30\n",
      "9     60\n",
      "10    60\n",
      "11    60\n",
      "12    60\n",
      "Name: Duration, dtype: int64\n"
     ]
    }
   ],
   "source": [
    "print(df[\"Duration\"])"
   ]
  },
  {
   "cell_type": "code",
   "execution_count": 13,
   "id": "b024a9ce-edab-4719-9017-c2c737d77aa0",
   "metadata": {},
   "outputs": [
    {
     "name": "stdout",
     "output_type": "stream",
     "text": [
      "0     409\n",
      "1     479\n",
      "2     340\n",
      "3     282\n",
      "4     406\n",
      "5     300\n",
      "6     374\n",
      "7     253\n",
      "8     273\n",
      "9     195\n",
      "10    215\n",
      "11    243\n",
      "12    323\n",
      "Name: Calories, dtype: int64\n"
     ]
    }
   ],
   "source": [
    "print(df[\"Calories\"])"
   ]
  },
  {
   "cell_type": "code",
   "execution_count": 14,
   "id": "67a7116a-e784-4fad-b5ee-f92e186ad5cd",
   "metadata": {},
   "outputs": [
    {
     "name": "stdout",
     "output_type": "stream",
     "text": [
      "60\n"
     ]
    }
   ],
   "source": [
    "print(df[\"Duration\"].loc[6])"
   ]
  },
  {
   "cell_type": "code",
   "execution_count": 15,
   "id": "569f47bf-4542-4561-bab4-863aaacfad62",
   "metadata": {},
   "outputs": [
    {
     "name": "stdout",
     "output_type": "stream",
     "text": [
      "60\n"
     ]
    }
   ],
   "source": [
    "print(df.loc[6][\"Duration\"])"
   ]
  },
  {
   "cell_type": "code",
   "execution_count": 16,
   "id": "1ffc79af-38b1-4b9d-a05c-47274a21bc00",
   "metadata": {},
   "outputs": [
    {
     "name": "stdout",
     "output_type": "stream",
     "text": [
      "RangeIndex(start=0, stop=13, step=1)\n"
     ]
    }
   ],
   "source": [
    "print(df.index)"
   ]
  },
  {
   "cell_type": "code",
   "execution_count": 17,
   "id": "b63c8a26-5fde-4944-9328-5389777ecdea",
   "metadata": {},
   "outputs": [
    {
     "name": "stdout",
     "output_type": "stream",
     "text": [
      "60\n",
      "45\n",
      "45\n",
      "30\n",
      "60\n",
      "60\n"
     ]
    }
   ],
   "source": [
    "for i in df.index:\n",
    "    if df.loc[i][\"Calories\"] > 300.0:\n",
    "        print(df.loc[i][\"Duration\"])"
   ]
  },
  {
   "cell_type": "code",
   "execution_count": 18,
   "id": "996678ac-3e0d-47f2-b584-6188bb4a8ea5",
   "metadata": {},
   "outputs": [
    {
     "name": "stdout",
     "output_type": "stream",
     "text": [
      "60\n"
     ]
    }
   ],
   "source": [
    "print(df[\"Duration\"].loc[0])\n"
   ]
  },
  {
   "cell_type": "code",
   "execution_count": 19,
   "id": "2033d0fb-7aea-4ca3-9452-73884cd395d5",
   "metadata": {},
   "outputs": [
    {
     "name": "stdout",
     "output_type": "stream",
     "text": [
      "60\n"
     ]
    }
   ],
   "source": [
    "print(df.loc[0][\"Duration\"])"
   ]
  },
  {
   "cell_type": "code",
   "execution_count": 20,
   "id": "2a902f3c-6d7c-42a9-863a-9bffc1c777cf",
   "metadata": {},
   "outputs": [
    {
     "name": "stdout",
     "output_type": "stream",
     "text": [
      "    Duration  Pulse  Maxpulse  Calories\n",
      "0         60    110       130       409\n",
      "1         45    117       145       479\n",
      "2         45    103       135       340\n",
      "3         30    109       175       282\n",
      "4         30    117       148       406\n",
      "5         60    102       127       300\n",
      "6         60    110       136       374\n",
      "7         45    104       134       253\n",
      "8         30    109       133       273\n",
      "9         60     98       124       195\n",
      "10        60    100       120       215\n",
      "11        60    130       101       243\n",
      "12        60    105       132       323\n"
     ]
    }
   ],
   "source": [
    "print(df.to_string())\n"
   ]
  },
  {
   "cell_type": "code",
   "execution_count": 21,
   "id": "f99a8523-10c2-45e1-8d67-946599ecef94",
   "metadata": {},
   "outputs": [
    {
     "name": "stdout",
     "output_type": "stream",
     "text": [
      "    Duration  Pulse  Maxpulse  Calories\n",
      "0         60    110       130       409\n",
      "1         45    117       145       479\n",
      "2         45    103       135       340\n",
      "3         30    109       175       282\n",
      "4         30    117       148       406\n",
      "5         60    102       127       300\n",
      "6         60    110       136       374\n",
      "7         45    104       134       253\n",
      "8         30    109       133       273\n",
      "9         60     98       124       195\n",
      "10        60    100       120       215\n",
      "11        60    130       101       243\n",
      "12        60    105       132       323\n"
     ]
    }
   ],
   "source": [
    "print(df.head(30))"
   ]
  },
  {
   "cell_type": "code",
   "execution_count": 22,
   "id": "745001e0-dca5-4c98-814a-b01cc22a3ee8",
   "metadata": {},
   "outputs": [
    {
     "name": "stdout",
     "output_type": "stream",
     "text": [
      "    Duration  Pulse  Maxpulse  Calories\n",
      "8         30    109       133       273\n",
      "9         60     98       124       195\n",
      "10        60    100       120       215\n",
      "11        60    130       101       243\n",
      "12        60    105       132       323\n"
     ]
    }
   ],
   "source": [
    "print(df.tail())"
   ]
  },
  {
   "cell_type": "code",
   "execution_count": 23,
   "id": "61ae7ec8-9ea0-4d9a-be06-ae16cb8d49ee",
   "metadata": {},
   "outputs": [
    {
     "name": "stdout",
     "output_type": "stream",
     "text": [
      "<class 'pandas.core.frame.DataFrame'>\n",
      "RangeIndex: 13 entries, 0 to 12\n",
      "Data columns (total 4 columns):\n",
      " #   Column    Non-Null Count  Dtype\n",
      "---  ------    --------------  -----\n",
      " 0   Duration  13 non-null     int64\n",
      " 1   Pulse     13 non-null     int64\n",
      " 2   Maxpulse  13 non-null     int64\n",
      " 3   Calories  13 non-null     int64\n",
      "dtypes: int64(4)\n",
      "memory usage: 548.0 bytes\n",
      "None\n"
     ]
    }
   ],
   "source": [
    "print(df.info())"
   ]
  },
  {
   "cell_type": "code",
   "execution_count": 24,
   "id": "e1dd39db-f86b-4ab4-8e48-401d790ce01c",
   "metadata": {
    "scrolled": true
   },
   "outputs": [
    {
     "name": "stdout",
     "output_type": "stream",
     "text": [
      "          Duration     Pulse  Maxpulse  Calories\n",
      "Duration  1.000000 -0.169871 -0.697091 -0.186914\n",
      "Pulse    -0.169871  1.000000 -0.118282  0.359235\n",
      "Maxpulse -0.697091 -0.118282  1.000000  0.385605\n",
      "Calories -0.186914  0.359235  0.385605  1.000000\n"
     ]
    }
   ],
   "source": [
    "mydataset = pd.read_csv(\"data_from.csv\")\n",
    "\n",
    "df = pd.DataFrame(mydataset)\n",
    "\n",
    "print(df.corr())\n"
   ]
  },
  {
   "cell_type": "code",
   "execution_count": 26,
   "id": "fa23543d-d2fb-4346-af23-20113003f639",
   "metadata": {},
   "outputs": [
    {
     "data": {
      "image/png": "[encoded data removed]",
      "text/plain": [
       "<Figure size 640x480 with 1 Axes>"
      ]
     },
     "metadata": {},
     "output_type": "display_data"
    }
   ],
   "source": [
    "# line chart\n",
    "import matplotlib.pyplot as plt\n",
    "df.plot()\n",
    "plt.show()\n"
   ]
  },
  {
   "cell_type": "code",
   "execution_count": 28,
   "id": "63f12de5-ad57-4b2a-ac2c-7359d8fd116b",
   "metadata": {},
   "outputs": [
    {
     "data": {
      "image/png": "[encoded data removed]",
      "text/plain": [
       "<Figure size 640x480 with 1 Axes>"
      ]
     },
     "metadata": {},
     "output_type": "display_data"
    }
   ],
   "source": [
    "# scatter pie\n",
    "import matplotlib.pyplot as plt\n",
    "df.plot(kind = \"scatter\", x=\"Duration\", y=\"Pulse\")\n",
    "plt.show()"
   ]
  },
  {
   "cell_type": "code",
   "execution_count": 29,
   "id": "bb39e740-0860-4661-aaf8-c34ce2263d97",
   "metadata": {},
   "outputs": [
    {
     "data": {
      "image/png": "[encoded data removed]",
      "text/plain": [
       "<Figure size 640x480 with 1 Axes>"
      ]
     },
     "metadata": {},
     "output_type": "display_data"
    }
   ],
   "source": [
    "# bar pie\n",
    "\n",
    "import matplotlib.pyplot as plt\n",
    "df.plot(kind = \"bar\", x=\"Duration\", y=\"Pulse\")\n",
    "plt.show()"
   ]
  },
  {
   "cell_type": "markdown",
   "id": "f6e30d73-efc1-4e56-b64e-a58d369bc0db",
   "metadata": {},
   "source": [
    "# Clearing Dtasets"
   ]
  },
  {
   "cell_type": "markdown",
   "id": "8a6ba85b-6a00-45b7-a591-9a26c52117da",
   "metadata": {},
   "source": [
    "## preprocessing by means of Pandas"
   ]
  },
  {
   "cell_type": "code",
   "execution_count": 54,
   "id": "cd5cc0d6-2c4d-46e9-a767-48fdb646a4f1",
   "metadata": {},
   "outputs": [],
   "source": [
    "import pandas as pd\n",
    "\n",
    "pd.set_option(\"display.float_format\", \"{:.2f}\".format)"
   ]
  },
  {
   "cell_type": "code",
   "execution_count": 55,
   "id": "1d9312b2-0c8d-4ddb-ac5f-7b15b839f884",
   "metadata": {},
   "outputs": [],
   "source": [
    "dataset = pd.read_csv(\"data_dirty.csv\")"
   ]
  },
  {
   "cell_type": "code",
   "execution_count": 56,
   "id": "e6fdbd6f-7373-4983-8204-3cabeab7c842",
   "metadata": {},
   "outputs": [
    {
     "name": "stdout",
     "output_type": "stream",
     "text": [
      "    Duration          Date  Pulse  Maxpulse  Calories\n",
      "0         60  '2020/12/01'    110       130    409.10\n",
      "1         60  '2020/12/02'    117       145    479.00\n",
      "2         60  '2020/12/03'    103       135    340.00\n",
      "3         45  '2020/12/04'    109       175    282.40\n",
      "4         45  '2020/12/05'    117       148    406.00\n",
      "5        450  '2020/12/06'    102       127    300.00\n",
      "6         60  '2020/12/07'    110       136    374.00\n",
      "7         45  '2020/12/08'    104       134    253.30\n",
      "8         30  '2020/12/09'    109       133    195.10\n",
      "9         60  '2020/12/12'    100       120    250.00\n",
      "10        60  '2020/12/12'    100       120    250.00\n",
      "11        60  '2020/12/12'    100       120    250.70\n",
      "12        60  '2020/12/12'    100       120    250.70\n",
      "13        60  '2020/12/13'    106       128    345.30\n",
      "14        60  '2020/12/14'    104       132    379.30\n",
      "15        60  '2020/12/15'     98       123    275.00\n",
      "16        60  '2020/12/16'     98       120       NaN\n",
      "17        60  '2020/12/17'    100       120    300.00\n",
      "18        45  '2020/12/18'     90       112       NaN\n",
      "19        60  '2020/12/19'    103       123    323.00\n",
      "20        45           NaN     97       125    243.00\n",
      "21        60  '2020/12/21'    108       131    364.20\n",
      "22        45  '2020/12/20'    100       131    364.20\n",
      "23        60  '2020/12/23'    130       101    282.00\n",
      "24        60    2020/12/24    105       132    300.00\n",
      "25        60  '2020/12/25'    102       126    246.00\n",
      "26        60    2020/12/26    100       120       NaN\n",
      "27        60  '2020/12/27'     92       118    241.00\n",
      "28        60  '2020/12/28'    103       132       NaN\n",
      "29        60  '2020/12/29'    100       113    280.30\n",
      "30        60  '2020/12/30'    102       132    380.30\n",
      "31        60  '2020/12/31'     92       115    243.00\n"
     ]
    }
   ],
   "source": [
    "df = pd.DataFrame(dataset)\n",
    "print(df)"
   ]
  },
  {
   "cell_type": "code",
   "execution_count": 57,
   "id": "8104ad81-293b-4541-b227-51b2ee69aa2b",
   "metadata": {},
   "outputs": [
    {
     "name": "stdout",
     "output_type": "stream",
     "text": [
      "    Duration          Date  Pulse  Maxpulse  Calories\n",
      "0         60  '2020/12/01'    110       130    409.10\n",
      "1         60  '2020/12/02'    117       145    479.00\n",
      "2         60  '2020/12/03'    103       135    340.00\n",
      "3         45  '2020/12/04'    109       175    282.40\n",
      "4         45  '2020/12/05'    117       148    406.00\n",
      "5        450  '2020/12/06'    102       127    300.00\n",
      "6         60  '2020/12/07'    110       136    374.00\n",
      "7         45  '2020/12/08'    104       134    253.30\n",
      "8         30  '2020/12/09'    109       133    195.10\n",
      "9         60  '2020/12/12'    100       120    250.00\n",
      "10        60  '2020/12/12'    100       120    250.00\n",
      "11        60  '2020/12/12'    100       120    250.70\n",
      "12        60  '2020/12/12'    100       120    250.70\n",
      "13        60  '2020/12/13'    106       128    345.30\n",
      "14        60  '2020/12/14'    104       132    379.30\n",
      "15        60  '2020/12/15'     98       123    275.00\n",
      "16        60  '2020/12/16'     98       120       NaN\n",
      "17        60  '2020/12/17'    100       120    300.00\n",
      "18        45  '2020/12/18'     90       112       NaN\n",
      "19        60  '2020/12/19'    103       123    323.00\n",
      "20        45           NaN     97       125    243.00\n",
      "21        60  '2020/12/21'    108       131    364.20\n",
      "22        45  '2020/12/20'    100       131    364.20\n",
      "23        60  '2020/12/23'    130       101    282.00\n",
      "24        60    2020/12/24    105       132    300.00\n",
      "25        60  '2020/12/25'    102       126    246.00\n",
      "26        60    2020/12/26    100       120       NaN\n",
      "27        60  '2020/12/27'     92       118    241.00\n",
      "28        60  '2020/12/28'    103       132       NaN\n",
      "29        60  '2020/12/29'    100       113    280.30\n",
      "30        60  '2020/12/30'    102       132    380.30\n",
      "31        60  '2020/12/31'     92       115    243.00\n"
     ]
    }
   ],
   "source": [
    "# in first solution, we can drop Nan values\n",
    "#df.dropna(inplace =True)\n",
    "print(df)"
   ]
  },
  {
   "cell_type": "code",
   "execution_count": 59,
   "id": "f3b80ba0-8ec6-45e2-b654-76636881c9a3",
   "metadata": {},
   "outputs": [
    {
     "name": "stdout",
     "output_type": "stream",
     "text": [
      "0   300.00\n",
      "Name: Calories, dtype: float64\n",
      "    Duration          Date  Pulse  Maxpulse  Calories\n",
      "0         60  '2020/12/01'    110       130    409.10\n",
      "1         60  '2020/12/02'    117       145    479.00\n",
      "2         60  '2020/12/03'    103       135    340.00\n",
      "3         45  '2020/12/04'    109       175    282.40\n",
      "4         45  '2020/12/05'    117       148    406.00\n",
      "5        450  '2020/12/06'    102       127    300.00\n",
      "6         60  '2020/12/07'    110       136    374.00\n",
      "7         45  '2020/12/08'    104       134    253.30\n",
      "8         30  '2020/12/09'    109       133    195.10\n",
      "9         60  '2020/12/12'    100       120    250.00\n",
      "10        60  '2020/12/12'    100       120    250.00\n",
      "11        60  '2020/12/12'    100       120    250.70\n",
      "12        60  '2020/12/12'    100       120    250.70\n",
      "13        60  '2020/12/13'    106       128    345.30\n",
      "14        60  '2020/12/14'    104       132    379.30\n",
      "15        60  '2020/12/15'     98       123    275.00\n",
      "16        60  '2020/12/16'     98       120       NaN\n",
      "17        60  '2020/12/17'    100       120    300.00\n",
      "18        45  '2020/12/18'     90       112       NaN\n",
      "19        60  '2020/12/19'    103       123    323.00\n",
      "20        45           NaN     97       125    243.00\n",
      "21        60  '2020/12/21'    108       131    364.20\n",
      "22        45  '2020/12/20'    100       131    364.20\n",
      "23        60  '2020/12/23'    130       101    282.00\n",
      "24        60    2020/12/24    105       132    300.00\n",
      "25        60  '2020/12/25'    102       126    246.00\n",
      "26        60    2020/12/26    100       120       NaN\n",
      "27        60  '2020/12/27'     92       118    241.00\n",
      "28        60  '2020/12/28'    103       132       NaN\n",
      "29        60  '2020/12/29'    100       113    280.30\n",
      "30        60  '2020/12/30'    102       132    380.30\n",
      "31        60  '2020/12/31'     92       115    243.00\n"
     ]
    },
    {
     "name": "stderr",
     "output_type": "stream",
     "text": [
      "C:\\Users\\Gebruiker\\AppData\\Local\\Temp\\ipykernel_4124\\1949528085.py:3: FutureWarning: A value is trying to be set on a copy of a DataFrame or Series through chained assignment using an inplace method.\n",
      "The behavior will change in pandas 3.0. This inplace method will never work because the intermediate object on which we are setting values always behaves as a copy.\n",
      "\n",
      "For example, when doing 'df[col].method(value, inplace=True)', try using 'df.method({col: value}, inplace=True)' or df[col] = df[col].method(value) instead, to perform the operation inplace on the original object.\n",
      "\n",
      "\n",
      "  df[\"Calories\"].fillna(df[\"Calories\"].mode(), inplace =True)\n"
     ]
    }
   ],
   "source": [
    "# we don't want to omit the values. we want replce them with a real value\n",
    "\n",
    "# df[\"Calories\"].fillna(df[\"Calories\"].mode(), inplace =True)\n",
    "\n",
    "# df[\"Calories\"] = df[\"Calories\"].round(2)\n",
    "# print(df[\"Calories\"].mode())\n",
    "# print(df)"
   ]
  },
  {
   "cell_type": "code",
   "execution_count": 49,
   "id": "812ee2e9-79db-4e86-8c2e-d11141258d6e",
   "metadata": {
    "jupyter": {
     "source_hidden": true
    }
   },
   "outputs": [
    {
     "name": "stdout",
     "output_type": "stream",
     "text": [
      "307.389375\n"
     ]
    }
   ],
   "source": [
    "print(df[\"Calories\"].mean())"
   ]
  },
  {
   "cell_type": "code",
   "execution_count": 47,
   "id": "7b63371e-80a4-4846-87a8-8169cb11f25e",
   "metadata": {},
   "outputs": [
    {
     "name": "stdout",
     "output_type": "stream",
     "text": [
      "Duration      int64\n",
      "Date         object\n",
      "Pulse         int64\n",
      "Maxpulse      int64\n",
      "Calories    float64\n",
      "dtype: object\n"
     ]
    }
   ],
   "source": [
    "print(df.dtypes)"
   ]
  },
  {
   "cell_type": "code",
   "execution_count": 60,
   "id": "2b45715f-9e7a-4132-b6d6-8ba01e75b96a",
   "metadata": {},
   "outputs": [
    {
     "name": "stdout",
     "output_type": "stream",
     "text": [
      "307.38928571428573\n",
      "    Duration          Date  Pulse  Maxpulse  Calories\n",
      "0         60  '2020/12/01'    110       130    409.10\n",
      "1         60  '2020/12/02'    117       145    479.00\n",
      "2         60  '2020/12/03'    103       135    340.00\n",
      "3         45  '2020/12/04'    109       175    282.40\n",
      "4         45  '2020/12/05'    117       148    406.00\n",
      "5        450  '2020/12/06'    102       127    300.00\n",
      "6         60  '2020/12/07'    110       136    374.00\n",
      "7         45  '2020/12/08'    104       134    253.30\n",
      "8         30  '2020/12/09'    109       133    195.10\n",
      "9         60  '2020/12/12'    100       120    250.00\n",
      "10        60  '2020/12/12'    100       120    250.00\n",
      "11        60  '2020/12/12'    100       120    250.70\n",
      "12        60  '2020/12/12'    100       120    250.70\n",
      "13        60  '2020/12/13'    106       128    345.30\n",
      "14        60  '2020/12/14'    104       132    379.30\n",
      "15        60  '2020/12/15'     98       123    275.00\n",
      "16        60  '2020/12/16'     98       120    307.39\n",
      "17        60  '2020/12/17'    100       120    300.00\n",
      "18        45  '2020/12/18'     90       112    307.39\n",
      "19        60  '2020/12/19'    103       123    323.00\n",
      "20        45           NaN     97       125    243.00\n",
      "21        60  '2020/12/21'    108       131    364.20\n",
      "22        45  '2020/12/20'    100       131    364.20\n",
      "23        60  '2020/12/23'    130       101    282.00\n",
      "24        60    2020/12/24    105       132    300.00\n",
      "25        60  '2020/12/25'    102       126    246.00\n",
      "26        60    2020/12/26    100       120    307.39\n",
      "27        60  '2020/12/27'     92       118    241.00\n",
      "28        60  '2020/12/28'    103       132    307.39\n",
      "29        60  '2020/12/29'    100       113    280.30\n",
      "30        60  '2020/12/30'    102       132    380.30\n",
      "31        60  '2020/12/31'     92       115    243.00\n"
     ]
    },
    {
     "name": "stderr",
     "output_type": "stream",
     "text": [
      "C:\\Users\\Gebruiker\\AppData\\Local\\Temp\\ipykernel_4124\\3396964276.py:3: FutureWarning: A value is trying to be set on a copy of a DataFrame or Series through chained assignment using an inplace method.\n",
      "The behavior will change in pandas 3.0. This inplace method will never work because the intermediate object on which we are setting values always behaves as a copy.\n",
      "\n",
      "For example, when doing 'df[col].method(value, inplace=True)', try using 'df.method({col: value}, inplace=True)' or df[col] = df[col].method(value) instead, to perform the operation inplace on the original object.\n",
      "\n",
      "\n",
      "  df[\"Calories\"].fillna(df[\"Calories\"].mean(), inplace =True)\n"
     ]
    }
   ],
   "source": [
    "# we don't want to omit the values. we want replce them with a real value\n",
    "\n",
    "# df[\"Calories\"].fillna(df[\"Calories\"].mean(), inplace =True)\n",
    "# print(df[\"Calories\"].mean())\n",
    "# print(df)"
   ]
  },
  {
   "cell_type": "code",
   "execution_count": 60,
   "id": "f88ddd71-7b3a-421a-b24e-c1b5e21d1f16",
   "metadata": {},
   "outputs": [
    {
     "name": "stdout",
     "output_type": "stream",
     "text": [
      "307.38928571428573\n",
      "    Duration          Date  Pulse  Maxpulse  Calories\n",
      "0         60  '2020/12/01'    110       130    409.10\n",
      "1         60  '2020/12/02'    117       145    479.00\n",
      "2         60  '2020/12/03'    103       135    340.00\n",
      "3         45  '2020/12/04'    109       175    282.40\n",
      "4         45  '2020/12/05'    117       148    406.00\n",
      "5        450  '2020/12/06'    102       127    300.00\n",
      "6         60  '2020/12/07'    110       136    374.00\n",
      "7         45  '2020/12/08'    104       134    253.30\n",
      "8         30  '2020/12/09'    109       133    195.10\n",
      "9         60  '2020/12/12'    100       120    250.00\n",
      "10        60  '2020/12/12'    100       120    250.00\n",
      "11        60  '2020/12/12'    100       120    250.70\n",
      "12        60  '2020/12/12'    100       120    250.70\n",
      "13        60  '2020/12/13'    106       128    345.30\n",
      "14        60  '2020/12/14'    104       132    379.30\n",
      "15        60  '2020/12/15'     98       123    275.00\n",
      "16        60  '2020/12/16'     98       120    307.39\n",
      "17        60  '2020/12/17'    100       120    300.00\n",
      "18        45  '2020/12/18'     90       112    307.39\n",
      "19        60  '2020/12/19'    103       123    323.00\n",
      "20        45           NaN     97       125    243.00\n",
      "21        60  '2020/12/21'    108       131    364.20\n",
      "22        45  '2020/12/20'    100       131    364.20\n",
      "23        60  '2020/12/23'    130       101    282.00\n",
      "24        60    2020/12/24    105       132    300.00\n",
      "25        60  '2020/12/25'    102       126    246.00\n",
      "26        60    2020/12/26    100       120    307.39\n",
      "27        60  '2020/12/27'     92       118    241.00\n",
      "28        60  '2020/12/28'    103       132    307.39\n",
      "29        60  '2020/12/29'    100       113    280.30\n",
      "30        60  '2020/12/30'    102       132    380.30\n",
      "31        60  '2020/12/31'     92       115    243.00\n"
     ]
    },
    {
     "name": "stderr",
     "output_type": "stream",
     "text": [
      "C:\\Users\\Gebruiker\\AppData\\Local\\Temp\\ipykernel_4124\\3396964276.py:3: FutureWarning: A value is trying to be set on a copy of a DataFrame or Series through chained assignment using an inplace method.\n",
      "The behavior will change in pandas 3.0. This inplace method will never work because the intermediate object on which we are setting values always behaves as a copy.\n",
      "\n",
      "For example, when doing 'df[col].method(value, inplace=True)', try using 'df.method({col: value}, inplace=True)' or df[col] = df[col].method(value) instead, to perform the operation inplace on the original object.\n",
      "\n",
      "\n",
      "  df[\"Calories\"].fillna(df[\"Calories\"].mean(), inplace =True)\n"
     ]
    }
   ],
   "source": [
    "# we don't want to omit the values. we want replce them with a real value\n",
    "\n",
    "# df[\"Calories\"].fillna(df[\"Calories\"].mean(), inplace =True)\n",
    "# print(df[\"Calories\"].mean())\n",
    "# print(df)"
   ]
  },
  {
   "cell_type": "code",
   "execution_count": 63,
   "id": "f4fb9c8b-ca81-4711-b0c1-3974b5ba37f9",
   "metadata": {},
   "outputs": [
    {
     "name": "stdout",
     "output_type": "stream",
     "text": [
      "300.0\n"
     ]
    },
    {
     "name": "stderr",
     "output_type": "stream",
     "text": [
      "C:\\Users\\Gebruiker\\AppData\\Local\\Temp\\ipykernel_4124\\1254818111.py:3: FutureWarning: A value is trying to be set on a copy of a DataFrame or Series through chained assignment using an inplace method.\n",
      "The behavior will change in pandas 3.0. This inplace method will never work because the intermediate object on which we are setting values always behaves as a copy.\n",
      "\n",
      "For example, when doing 'df[col].method(value, inplace=True)', try using 'df.method({col: value}, inplace=True)' or df[col] = df[col].method(value) instead, to perform the operation inplace on the original object.\n",
      "\n",
      "\n",
      "  df[\"Calories\"].fillna(df[\"Calories\"].median(), inplace =True)\n"
     ]
    }
   ],
   "source": [
    "# # we don't want to omit the values. we want replce them with a real value\n",
    "\n",
    "df[\"Calories\"].fillna(df[\"Calories\"].median(), inplace =True)\n",
    "print(df['Calories'].median())\n"
   ]
  },
  {
   "cell_type": "code",
   "execution_count": 68,
   "id": "8d9459a4-72d0-47b9-83e1-e8d4c2e5c037",
   "metadata": {
    "jupyter": {
     "source_hidden": true
    }
   },
   "outputs": [
    {
     "name": "stdout",
     "output_type": "stream",
     "text": [
      "307.38928571428573\n",
      "0    '2020/12/12'\n",
      "Name: Date, dtype: object\n",
      "    Duration          Date  Pulse  Maxpulse  Calories\n",
      "0         60  '2020/12/01'    110       130    409.10\n",
      "1         60  '2020/12/02'    117       145    479.00\n",
      "2         60  '2020/12/03'    103       135    340.00\n",
      "3         45  '2020/12/04'    109       175    282.40\n",
      "4         45  '2020/12/05'    117       148    406.00\n",
      "5        450  '2020/12/06'    102       127    300.00\n",
      "6         60  '2020/12/07'    110       136    374.00\n",
      "7         45  '2020/12/08'    104       134    253.30\n",
      "8         30  '2020/12/09'    109       133    195.10\n",
      "9         60  '2020/12/12'    100       120    250.00\n",
      "10        60  '2020/12/12'    100       120    250.00\n",
      "11        60  '2020/12/12'    100       120    250.70\n",
      "12        60  '2020/12/12'    100       120    250.70\n",
      "13        60  '2020/12/13'    106       128    345.30\n",
      "14        60  '2020/12/14'    104       132    379.30\n",
      "15        60  '2020/12/15'     98       123    275.00\n",
      "16        60  '2020/12/16'     98       120    307.39\n",
      "17        60  '2020/12/17'    100       120    300.00\n",
      "18        45  '2020/12/18'     90       112    307.39\n",
      "19        60  '2020/12/19'    103       123    323.00\n",
      "20        45  '2020/12/12'     97       125    243.00\n",
      "21        60  '2020/12/21'    108       131    364.20\n",
      "22        45  '2020/12/20'    100       131    364.20\n",
      "23        60  '2020/12/23'    130       101    282.00\n",
      "24        60    2020/12/24    105       132    300.00\n",
      "25        60  '2020/12/25'    102       126    246.00\n",
      "26        60    2020/12/26    100       120    307.39\n",
      "27        60  '2020/12/27'     92       118    241.00\n",
      "28        60  '2020/12/28'    103       132    307.39\n",
      "29        60  '2020/12/29'    100       113    280.30\n",
      "30        60  '2020/12/30'    102       132    380.30\n",
      "31        60  '2020/12/31'     92       115    243.00\n"
     ]
    },
    {
     "name": "stderr",
     "output_type": "stream",
     "text": [
      "C:\\Users\\Gebruiker\\AppData\\Local\\Temp\\ipykernel_4124\\1490071302.py:1: FutureWarning: A value is trying to be set on a copy of a DataFrame or Series through chained assignment using an inplace method.\n",
      "The behavior will change in pandas 3.0. This inplace method will never work because the intermediate object on which we are setting values always behaves as a copy.\n",
      "\n",
      "For example, when doing 'df[col].method(value, inplace=True)', try using 'df.method({col: value}, inplace=True)' or df[col] = df[col].method(value) instead, to perform the operation inplace on the original object.\n",
      "\n",
      "\n",
      "  df[\"Calories\"].fillna(df[\"Calories\"].mean(), inplace =True)\n"
     ]
    }
   ],
   "source": [
    "df[\"Calories\"].fillna(df[\"Calories\"].mean(), inplace =True)\n",
    "print(df['Calories'].mean())\n",
    "df[\"Date\"].fillna(df[\"Date\"].mode()[0], inplace = True)\n",
    "\n",
    "print(df[\"Date\"].mode())\n",
    "print(df)\n",
    "      "
   ]
  },
  {
   "cell_type": "code",
   "execution_count": 76,
   "id": "1ce33378-1448-42a8-abd8-46e0b371f4cf",
   "metadata": {},
   "outputs": [
    {
     "name": "stdout",
     "output_type": "stream",
     "text": [
      "    Duration       Date  Pulse  Maxpulse  Calories\n",
      "0         60 2020-12-01    110       130    409.10\n",
      "1         60 2020-12-02    117       145    479.00\n",
      "2         60 2020-12-03    103       135    340.00\n",
      "3         45 2020-12-04    109       175    282.40\n",
      "4         45 2020-12-05    117       148    406.00\n",
      "5        450 2020-12-06    102       127    300.00\n",
      "6         60 2020-12-07    110       136    374.00\n",
      "7         45 2020-12-08    104       134    253.30\n",
      "8         30 2020-12-09    109       133    195.10\n",
      "9         60 2020-12-12    100       120    250.00\n",
      "10        60 2020-12-12    100       120    250.00\n",
      "11        60 2020-12-12    100       120    250.70\n",
      "12        60 2020-12-12    100       120    250.70\n",
      "13        60 2020-12-13    106       128    345.30\n",
      "14        60 2020-12-14    104       132    379.30\n",
      "15        60 2020-12-15     98       123    275.00\n",
      "16        60 2020-12-16     98       120    307.39\n",
      "17        60 2020-12-17    100       120    300.00\n",
      "18        45 2020-12-18     90       112    307.39\n",
      "19        60 2020-12-19    103       123    323.00\n",
      "20        45 2020-12-12     97       125    243.00\n",
      "21        60 2020-12-21    108       131    364.20\n",
      "22        45 2020-12-20    100       131    364.20\n",
      "23        60 2020-12-23    130       101    282.00\n",
      "24        60        NaT    105       132    300.00\n",
      "25        60 2020-12-25    102       126    246.00\n",
      "26        60        NaT    100       120    307.39\n",
      "27        60 2020-12-27     92       118    241.00\n",
      "28        60 2020-12-28    103       132    307.39\n",
      "29        60 2020-12-29    100       113    280.30\n",
      "30        60 2020-12-30    102       132    380.30\n",
      "31        60 2020-12-31     92       115    243.00\n"
     ]
    },
    {
     "name": "stderr",
     "output_type": "stream",
     "text": [
      "C:\\Users\\Gebruiker\\AppData\\Local\\Temp\\ipykernel_4124\\702045356.py:1: FutureWarning: A value is trying to be set on a copy of a DataFrame or Series through chained assignment using an inplace method.\n",
      "The behavior will change in pandas 3.0. This inplace method will never work because the intermediate object on which we are setting values always behaves as a copy.\n",
      "\n",
      "For example, when doing 'df[col].method(value, inplace=True)', try using 'df.method({col: value}, inplace=True)' or df[col] = df[col].method(value) instead, to perform the operation inplace on the original object.\n",
      "\n",
      "\n",
      "  df[\"Calories\"].fillna(df[\"Calories\"].mean(), inplace =True)\n"
     ]
    }
   ],
   "source": [
    "df[\"Calories\"].fillna(df[\"Calories\"].mean(), inplace =True)\n",
    "\n",
    "df[\"Date\"].fillna(df[\"Date\"].mode()[0], inplace = True)\n",
    "\n",
    "df[\"Date\"] = pd.to_datetime(df[\"Date\"], errors = \"coerce\")\n",
    "print(df)\n",
    "      "
   ]
  },
  {
   "cell_type": "code",
   "execution_count": 77,
   "id": "363f9811-2022-433f-8e66-39fd2aed653b",
   "metadata": {},
   "outputs": [
    {
     "name": "stdout",
     "output_type": "stream",
     "text": [
      "    Duration       Date  Pulse  Maxpulse  Calories\n",
      "0         60 2020-12-01    110       130    409.10\n",
      "1         60 2020-12-02    117       145    479.00\n",
      "2         60 2020-12-03    103       135    340.00\n",
      "3         45 2020-12-04    109       175    282.40\n",
      "4         45 2020-12-05    117       148    406.00\n",
      "5        450 2020-12-06    102       127    300.00\n",
      "6         60 2020-12-07    110       136    374.00\n",
      "7         45 2020-12-08    104       134    253.30\n",
      "8         30 2020-12-09    109       133    195.10\n",
      "9         60 2020-12-12    100       120    250.00\n",
      "10        60 2020-12-12    100       120    250.00\n",
      "11        60 2020-12-12    100       120    250.70\n",
      "12        60 2020-12-12    100       120    250.70\n",
      "13        60 2020-12-13    106       128    345.30\n",
      "14        60 2020-12-14    104       132    379.30\n",
      "15        60 2020-12-15     98       123    275.00\n",
      "16        60 2020-12-16     98       120    307.39\n",
      "17        60 2020-12-17    100       120    300.00\n",
      "18        45 2020-12-18     90       112    307.39\n",
      "19        60 2020-12-19    103       123    323.00\n",
      "20        45 2020-12-12     97       125    243.00\n",
      "21        60 2020-12-21    108       131    364.20\n",
      "22        45 2020-12-20    100       131    364.20\n",
      "23        60 2020-12-23    130       101    282.00\n",
      "24        60 2020-12-12    105       132    300.00\n",
      "25        60 2020-12-25    102       126    246.00\n",
      "26        60 2020-12-12    100       120    307.39\n",
      "27        60 2020-12-27     92       118    241.00\n",
      "28        60 2020-12-28    103       132    307.39\n",
      "29        60 2020-12-29    100       113    280.30\n",
      "30        60 2020-12-30    102       132    380.30\n",
      "31        60 2020-12-31     92       115    243.00\n"
     ]
    },
    {
     "name": "stderr",
     "output_type": "stream",
     "text": [
      "C:\\Users\\Gebruiker\\AppData\\Local\\Temp\\ipykernel_4124\\146466225.py:1: FutureWarning: A value is trying to be set on a copy of a DataFrame or Series through chained assignment using an inplace method.\n",
      "The behavior will change in pandas 3.0. This inplace method will never work because the intermediate object on which we are setting values always behaves as a copy.\n",
      "\n",
      "For example, when doing 'df[col].method(value, inplace=True)', try using 'df.method({col: value}, inplace=True)' or df[col] = df[col].method(value) instead, to perform the operation inplace on the original object.\n",
      "\n",
      "\n",
      "  df[\"Date\"].fillna(df[\"Date\"].mode()[0], inplace=True)\n"
     ]
    }
   ],
   "source": [
    "df[\"Date\"].fillna(df[\"Date\"].mode()[0], inplace=True)\n",
    "print(df)"
   ]
  },
  {
   "cell_type": "code",
   "execution_count": 82,
   "id": "2ed12c3c-7c1d-45ed-85f8-652119b397bb",
   "metadata": {},
   "outputs": [
    {
     "name": "stdout",
     "output_type": "stream",
     "text": [
      "    Duration       Date  Pulse  Maxpulse  Calories\n",
      "0         60 2020-12-01    110       130    409.10\n",
      "1         60 2020-12-02    117       145    479.00\n",
      "2         60 2020-12-03    103       135    340.00\n",
      "3         45 2020-12-04    109       175    282.40\n",
      "4         45 2020-12-05    117       148    406.00\n",
      "5         60 2020-12-06    102       127    300.00\n",
      "6         60 2020-12-07    110       136    374.00\n",
      "7         45 2020-12-08    104       134    253.30\n",
      "8         30 2020-12-09    109       133    195.10\n",
      "9         60 2020-12-12    100       120    250.00\n",
      "10        60 2020-12-12    100       120    250.00\n",
      "11        60 2020-12-12    100       120    250.70\n",
      "12        60 2020-12-12    100       120    250.70\n",
      "13        60 2020-12-13    106       128    345.30\n",
      "14        60 2020-12-14    104       132    379.30\n",
      "15        60 2020-12-15     98       123    275.00\n",
      "16        60 2020-12-16     98       120    307.39\n",
      "17        60 2020-12-17    100       120    300.00\n",
      "18        45 2020-12-18     90       112    307.39\n",
      "19        60 2020-12-19    103       123    323.00\n",
      "20        45 2020-12-12     97       125    243.00\n",
      "21        60 2020-12-21    108       131    364.20\n",
      "22        45 2020-12-20    100       131    364.20\n",
      "23        60 2020-12-23    130       101    282.00\n",
      "24        60 2020-12-12    105       132    300.00\n",
      "25        60 2020-12-25    102       126    246.00\n",
      "26        60 2020-12-12    100       120    307.39\n",
      "27        60 2020-12-27     92       118    241.00\n",
      "28        60 2020-12-28    103       132    307.39\n",
      "29        60 2020-12-29    100       113    280.30\n",
      "30        60 2020-12-30    102       132    380.30\n",
      "31        60 2020-12-31     92       115    243.00\n"
     ]
    }
   ],
   "source": [
    "for i in df.index:\n",
    "    if df.loc[i, \"Duration\"]>= 61:\n",
    "        df.drop(i, inplace = True)\n",
    "\n",
    "print(df)"
   ]
  },
  {
   "cell_type": "code",
   "execution_count": 84,
   "id": "9412e0b1-2048-440c-b88c-00da52323cd2",
   "metadata": {},
   "outputs": [
    {
     "name": "stdout",
     "output_type": "stream",
     "text": [
      "0     False\n",
      "1     False\n",
      "2     False\n",
      "3     False\n",
      "4     False\n",
      "5     False\n",
      "6     False\n",
      "7     False\n",
      "8     False\n",
      "9     False\n",
      "10     True\n",
      "11    False\n",
      "12     True\n",
      "13    False\n",
      "14    False\n",
      "15    False\n",
      "16    False\n",
      "17    False\n",
      "18    False\n",
      "19    False\n",
      "20    False\n",
      "21    False\n",
      "22    False\n",
      "23    False\n",
      "24    False\n",
      "25    False\n",
      "26    False\n",
      "27    False\n",
      "28    False\n",
      "29    False\n",
      "30    False\n",
      "31    False\n",
      "dtype: bool\n"
     ]
    }
   ],
   "source": [
    "print(df.duplicated())"
   ]
  },
  {
   "cell_type": "code",
   "execution_count": 85,
   "id": "e55bc2be-6190-4ca6-a628-f25cf5e8251f",
   "metadata": {},
   "outputs": [
    {
     "name": "stdout",
     "output_type": "stream",
     "text": [
      "    Duration       Date  Pulse  Maxpulse  Calories\n",
      "0         60 2020-12-01    110       130    409.10\n",
      "1         60 2020-12-02    117       145    479.00\n",
      "2         60 2020-12-03    103       135    340.00\n",
      "3         45 2020-12-04    109       175    282.40\n",
      "4         45 2020-12-05    117       148    406.00\n",
      "5         60 2020-12-06    102       127    300.00\n",
      "6         60 2020-12-07    110       136    374.00\n",
      "7         45 2020-12-08    104       134    253.30\n",
      "8         30 2020-12-09    109       133    195.10\n",
      "9         60 2020-12-12    100       120    250.00\n",
      "11        60 2020-12-12    100       120    250.70\n",
      "13        60 2020-12-13    106       128    345.30\n",
      "14        60 2020-12-14    104       132    379.30\n",
      "15        60 2020-12-15     98       123    275.00\n",
      "16        60 2020-12-16     98       120    307.39\n",
      "17        60 2020-12-17    100       120    300.00\n",
      "18        45 2020-12-18     90       112    307.39\n",
      "19        60 2020-12-19    103       123    323.00\n",
      "20        45 2020-12-12     97       125    243.00\n",
      "21        60 2020-12-21    108       131    364.20\n",
      "22        45 2020-12-20    100       131    364.20\n",
      "23        60 2020-12-23    130       101    282.00\n",
      "24        60 2020-12-12    105       132    300.00\n",
      "25        60 2020-12-25    102       126    246.00\n",
      "26        60 2020-12-12    100       120    307.39\n",
      "27        60 2020-12-27     92       118    241.00\n",
      "28        60 2020-12-28    103       132    307.39\n",
      "29        60 2020-12-29    100       113    280.30\n",
      "30        60 2020-12-30    102       132    380.30\n",
      "31        60 2020-12-31     92       115    243.00\n"
     ]
    }
   ],
   "source": [
    "df.drop_duplicates(inplace=True)\n",
    "print(df)"
   ]
  },
  {
   "cell_type": "code",
   "execution_count": null,
   "id": "415f2d6c-61d0-4ce9-ba4e-3ead5c54fb45",
   "metadata": {},
   "outputs": [],
   "source": []
  }
 ],
 "metadata": {
  "kernelspec": {
   "display_name": "Python 3 (ipykernel)",
   "language": "python",
   "name": "python3"
  },
  "language_info": {
   "codemirror_mode": {
    "name": "ipython",
    "version": 3
   },
   "file_extension": ".py",
   "mimetype": "text/x-python",
   "name": "python",
   "nbconvert_exporter": "python",
   "pygments_lexer": "ipython3",
   "version": "3.12.7"
  }
 },
 "nbformat": 4,
 "nbformat_minor": 5
}
